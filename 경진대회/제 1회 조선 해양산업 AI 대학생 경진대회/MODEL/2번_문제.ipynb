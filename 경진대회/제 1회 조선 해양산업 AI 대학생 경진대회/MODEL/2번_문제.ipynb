{
  "nbformat": 4,
  "nbformat_minor": 0,
  "metadata": {
    "colab": {
      "name": "2번 문제",
      "provenance": [],
      "collapsed_sections": []
    },
    "kernelspec": {
      "name": "python3",
      "display_name": "Python 3"
    }
  },
  "cells": [
    {
      "cell_type": "code",
      "metadata": {
        "id": "uBKiBnX4M5yv"
      },
      "source": [
        "#라이브러리 import\r\n",
        "\r\n",
        "import numpy as np\r\n",
        "import copy\r\n",
        "import pandas as pd\r\n",
        "import matplotlib.pyplot as plt"
      ],
      "execution_count": null,
      "outputs": []
    },
    {
      "cell_type": "code",
      "metadata": {
        "id": "nbgE-euINDte"
      },
      "source": [
        "# Max Time-windows in seconds\r\n",
        "# 8 Hours x 60 x 60 = 28800 seconds\r\n",
        "max_tw = 28800"
      ],
      "execution_count": null,
      "outputs": []
    },
    {
      "cell_type": "code",
      "metadata": {
        "id": "fiDVFQlONIwl"
      },
      "source": [
        "# 각 절단장비에 대한 배열 선언\r\n",
        "arr_w14m1 = []\r\n",
        "arr_w14m2 = []\r\n",
        "\r\n",
        "arr_w21m1 = []\r\n",
        "arr_w21m2 = []\r\n",
        "arr_w21m3 = []\r\n",
        "\r\n",
        "arr_w22m1 = []\r\n",
        "arr_w22m3 = []\r\n",
        "arr_w22m4 = []\r\n",
        "\r\n",
        "arr_w23m1 = []\r\n",
        "arr_w23m3 = []\r\n",
        "arr_w23m4 = []\r\n",
        "\r\n",
        "arr_w24m1 = []\r\n",
        "arr_w24m2 = []\r\n",
        "arr_w24m3 = []\r\n",
        "\r\n",
        "arr_w25m2 = []\r\n",
        "arr_w25m3 = []\r\n",
        "arr_w25m4 = []\r\n",
        "\r\n",
        "arr_w26m1 = []\r\n",
        "arr_w26m2 = []\r\n",
        "\r\n",
        "arr_w27m1 = []\r\n",
        "arr_w27m2 = []\r\n",
        "arr_w27m3 = []\r\n",
        "\r\n",
        "arr_w91m1 = []\r\n",
        "\r\n",
        "arr_w92m1 = []\r\n",
        "arr_w92m2 = []\r\n",
        "\r\n",
        "arr_w96m1 = []\r\n",
        "arr_w96m3 = []\r\n",
        "\r\n",
        "arr_w97m3 = []\r\n",
        "arr_w97m4 = []"
      ],
      "execution_count": null,
      "outputs": []
    },
    {
      "cell_type": "code",
      "metadata": {
        "id": "ZujQz3bDNTEn"
      },
      "source": [
        "#각 작업장에 있는 절단장비 배열\r\n",
        "arr_wm = [arr_w14m1, arr_w14m2, arr_w21m1, arr_w21m2, arr_w21m3, arr_w22m1, arr_w22m3, arr_w22m4, arr_w23m1, arr_w23m3,\r\n",
        "          arr_w23m4, arr_w24m1, arr_w24m2, arr_w24m3, arr_w25m2, arr_w25m3, arr_w25m4, arr_w26m1, arr_w26m2, arr_w27m1,\r\n",
        "          arr_w27m2, arr_w27m3, arr_w91m1, arr_w92m1, arr_w92m2, arr_w96m1, arr_w96m3, arr_w97m3, arr_w97m4]\r\n",
        "\r\n",
        "#절단장비의 이름 배열\r\n",
        "arr_mch_name = ['mch-141', 'mch-142', 'mch-211', 'mch-212', 'mch-213','mch-221', 'mch-223', 'mch-224', 'mch-231',\r\n",
        "                'mch-233', 'mch-234', 'mch-241', 'mch-242', 'mch-243', 'mch-252', 'mch-253', 'mch-254', 'mch-261',\r\n",
        "                'mch-262', 'mch-271', 'mch-272', 'mch-273', 'mch-911', 'mch-921', 'mch-922', 'mch-961', 'mch-963',\r\n",
        "                'mch-973', 'mch-974']"
      ],
      "execution_count": null,
      "outputs": []
    },
    {
      "cell_type": "code",
      "metadata": {
        "id": "Uo3N_2P_NtXE"
      },
      "source": [
        "# 각 절단장비의 Remaining Time 배열 선언 이후 최대로 우선 설정\r\n",
        "arr_mch_rtslot = []\r\n",
        "for i in range(29):\r\n",
        "    arr_mch_rtslot.append(max_tw)"
      ],
      "execution_count": null,
      "outputs": []
    },
    {
      "cell_type": "code",
      "metadata": {
        "id": "2KoTsEdMN9rl"
      },
      "source": [
        "# Taken Job Index : 배치된 작업의 index\r\n",
        "arr_tji = []"
      ],
      "execution_count": null,
      "outputs": []
    },
    {
      "cell_type": "code",
      "metadata": {
        "colab": {
          "base_uri": "https://localhost:8080/"
        },
        "id": "ARLY2o1QqQXI",
        "outputId": "5700df50-0624-46fd-a70a-0a25eb6fe94f"
      },
      "source": [
        "#데이터 loading\r\n",
        "\r\n",
        "ori_job = data_marking['예측 작업시간']\r\n",
        "ori_job "
      ],
      "execution_count": null,
      "outputs": [
        {
          "output_type": "execute_result",
          "data": {
            "text/plain": [
              "0         1477.58\n",
              "1         3244.89\n",
              "2         1192.87\n",
              "3         4967.20\n",
              "4         1975.54\n",
              "           ...   \n",
              "144402    3699.91\n",
              "144403    2104.45\n",
              "144404    1119.96\n",
              "144405    1109.60\n",
              "144406    1061.05\n",
              "Name: 예측 작업시간, Length: 144407, dtype: float64"
            ]
          },
          "metadata": {
            "tags": []
          },
          "execution_count": 16
        }
      ]
    },
    {
      "cell_type": "code",
      "metadata": {
        "id": "K3hYbo4IqdxX"
      },
      "source": [
        "job = copy.deepcopy(ori_job)"
      ],
      "execution_count": null,
      "outputs": []
    },
    {
      "cell_type": "code",
      "metadata": {
        "id": "DeYxwp2YrX6s"
      },
      "source": [
        "#배치된 작업을 체크해주는 함수\r\n",
        "\r\n",
        "def check_fit_jobs():\r\n",
        "    fit_status = False\r\n",
        "    fit_job_counter = 0\r\n",
        "\r\n",
        "    # Upper & Lower Bound of RTS\r\n",
        "    num_of_tj = len(arr_tji)\r\n",
        "\r\n",
        "    lb_rts = 0\r\n",
        "    if num_of_tj > 0:\r\n",
        "        up_rts = max(arr_mch_rtslot)\r\n",
        "    else:\r\n",
        "        up_rts = max_tw\r\n",
        "\r\n",
        "    num_of_job = len(job)\r\n",
        "    for i in range(num_of_job):\r\n",
        "        tmtct = job[i]\r\n",
        "        if lb_rts < tmtct <= up_rts:\r\n",
        "            fit_job_counter += 1\r\n",
        "\r\n",
        "    if fit_job_counter > 0:\r\n",
        "        fit_status = True\r\n",
        "\r\n",
        "    return fit_status"
      ],
      "execution_count": null,
      "outputs": []
    },
    {
      "cell_type": "code",
      "metadata": {
        "id": "EPJi10nPrdAU"
      },
      "source": [
        "#remaining Time이 가장 큰 작업장의 인덱스를 고르는 함수\r\n",
        "def get_max_mrtslot():\r\n",
        "    # mch_idx = arr_mch_rtslot.index(max(arr_rtslot))\r\n",
        "    arr_possible_mch = []\r\n",
        "    num_of_mch = len(arr_wm)\r\n",
        "    temp_max_rtslot = 0\r\n",
        "\r\n",
        "    for i in range(num_of_mch):\r\n",
        "        if arr_mch_rtslot[i] >= temp_max_rtslot:\r\n",
        "            arr_possible_mch.append(i)\r\n",
        "\r\n",
        "            temp_max_rtslot = arr_mch_rtslot[i]\r\n",
        "\r\n",
        "    # Select random machine\r\n",
        "    numof_possible_mch = len(arr_possible_mch)\r\n",
        "\r\n",
        "    if numof_possible_mch > 0:\r\n",
        "        sel_idx = np.random.randint(0, numof_possible_mch)\r\n",
        "        sel_mch_idx = arr_possible_mch[sel_idx]\r\n",
        "\r\n",
        "    return sel_mch_idx"
      ],
      "execution_count": null,
      "outputs": []
    },
    {
      "cell_type": "code",
      "metadata": {
        "id": "s4grnk5Nrhvs"
      },
      "source": [
        "#활용할 수 있는 작업의 인덱스를 고르는 함수\r\n",
        "def get_avail_job(mch_idx):\r\n",
        "    arr_avail_jidx = []\r\n",
        "    num_of_job = len(job)\r\n",
        "\r\n",
        "    # Get rtslot of selected machine\r\n",
        "    mch_rtslot = arr_mch_rtslot[mch_idx]\r\n",
        "\r\n",
        "    for i in range(num_of_job):\r\n",
        "        # AVOIDED Taken Job\r\n",
        "        if job[i] > 0:\r\n",
        "            # if total MTCT of current job less than the remaining time slot\r\n",
        "            # of selected machine\r\n",
        "            if job[i] <= mch_rtslot:\r\n",
        "                arr_avail_jidx.append(i)\r\n",
        "\r\n",
        "    return arr_avail_jidx"
      ],
      "execution_count": null,
      "outputs": []
    },
    {
      "cell_type": "code",
      "metadata": {
        "id": "GX7z6ufSri6J"
      },
      "source": [
        "#활용할 수 있는 작업 인덱스들 중 하나의 작업을 랜덤하게 선택하는 함수\r\n",
        "def select_random_job(arr_avail_jidx):\r\n",
        "    numof_avail_job = len(arr_avail_jidx)\r\n",
        "\r\n",
        "    sel_idx = np.random.randint(0, numof_avail_job)\r\n",
        "    sel_job_idx = arr_avail_jidx[sel_idx]\r\n",
        "\r\n",
        "    return sel_job_idx"
      ],
      "execution_count": null,
      "outputs": []
    },
    {
      "cell_type": "code",
      "metadata": {
        "id": "hHnc2Q-DrrEo"
      },
      "source": [
        "#선택된 작업을 선택된 작업장의 절단장비에 할당하는 함수\r\n",
        "def assign_job_2machine(job_idx, mch_idx):\r\n",
        "    # Assign selected job to selected machine\r\n",
        "    arr_wm[mch_idx].append(job_idx)\r\n",
        "\r\n",
        "    # Update the remaining time slot of the selected machine\r\n",
        "    arr_mch_rtslot[mch_idx] = arr_mch_rtslot[mch_idx] - job[job_idx]\r\n",
        "\r\n",
        "    # Set the selected job value to 0\r\n",
        "    job[job_idx] = 0\r\n",
        "\r\n",
        "    # Flagging the selected job as taken job\r\n",
        "    arr_tji.append(job_idx)"
      ],
      "execution_count": null,
      "outputs": []
    },
    {
      "cell_type": "code",
      "metadata": {
        "id": "8kVxR5DTr_aR"
      },
      "source": [
        "# ********************************** #\r\n",
        "# Main Program\r\n",
        "# ********************************** #\r\n",
        "fj = check_fit_jobs()"
      ],
      "execution_count": null,
      "outputs": []
    },
    {
      "cell_type": "code",
      "metadata": {
        "id": "20j4ZzVZsB_F"
      },
      "source": [
        "#함수를 이용하여 배치\r\n",
        "while fj:\r\n",
        "    # Select machine with maximum remaining time slot\r\n",
        "    sel_mch_idx = get_max_mrtslot()\r\n",
        "\r\n",
        "    # Find available jobs that fit with remaining time slot of selected machine\r\n",
        "    arr_avail_jidx = get_avail_job(sel_mch_idx)\r\n",
        "\r\n",
        "    # Make sure if there is a job that fit with remaining time slot of selected machine\r\n",
        "    while len(arr_avail_jidx) == 0:\r\n",
        "        sel_mch_idx = get_max_mrtslot()\r\n",
        "        arr_avail_jidx = get_avail_job(sel_mch_idx)\r\n",
        "\r\n",
        "    # Select random job\r\n",
        "    if len(arr_avail_jidx) > 0:\r\n",
        "        sel_job_idx = select_random_job(arr_avail_jidx)\r\n",
        "\r\n",
        "    #Recalculate Selected the job\r\n",
        "\r\n",
        "\r\n",
        "\r\n",
        "    # Assign a Job to a Machine\r\n",
        "    assign_job_2machine(sel_job_idx, sel_mch_idx)\r\n",
        "\r\n",
        "    fj = check_fit_jobs()"
      ],
      "execution_count": null,
      "outputs": []
    },
    {
      "cell_type": "code",
      "metadata": {
        "id": "fR16BE6epxw-"
      },
      "source": [
        "# 결과 프린트\r\n",
        "num_of_mch = len(arr_wm)\r\n",
        "for i in range(num_of_mch):\r\n",
        "    job_len = len(arr_wm[i])\r\n",
        "\r\n",
        "    print(\"----------------------------------------\")\r\n",
        "    print(\"Job Index Processing in Machine \", arr_mch_name[i])\r\n",
        "    print(\"----------------------------------------\")\r\n",
        "    print(arr_wm[i])\r\n",
        "    print()"
      ],
      "execution_count": null,
      "outputs": []
    }
  ]
}